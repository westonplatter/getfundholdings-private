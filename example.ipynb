{
 "cells": [
  {
   "cell_type": "code",
   "execution_count": 10,
   "id": "d45a6d73",
   "metadata": {},
   "outputs": [
    {
     "name": "stdout",
     "output_type": "stream",
     "text": [
      "Successfully uploaded funds/VOO/latest.json to getfundholdings-dev\n"
     ]
    },
    {
     "data": {
      "text/plain": [
       "True"
      ]
     },
     "execution_count": 10,
     "metadata": {},
     "output_type": "execute_result"
    }
   ],
   "source": [
    "import boto3\n",
    "import json\n",
    "import os\n",
    "from botocore.config import Config\n",
    "from dotenv import load_dotenv\n",
    "\n",
    "# Load environment variables from .env file\n",
    "load_dotenv('.env')\n",
    "\n",
    "# Configure R2 client using environment variables\n",
    "r2_client = boto3.client(\n",
    "    's3',\n",
    "    endpoint_url=os.getenv('CLOUDFLARE_R2_ENDPOINT_URL'),\n",
    "    aws_access_key_id=os.getenv('CLOUDFLARE_R2_ACCESS_KEY_ID'),\n",
    "    aws_secret_access_key=os.getenv('CLOUDFLARE_R2_SECRET_ACCESS_KEY'),\n",
    "    config=Config(signature_version='s3v4'),\n",
    "    region_name='auto'\n",
    ")\n",
    "\n",
    "def upload_json_to_r2(data, key):\n",
    "    \"\"\"Upload JSON data to Cloudflare R2\"\"\"\n",
    "    try:\n",
    "        json_data = json.dumps(data, indent=2)\n",
    "\n",
    "        r2_client.put_object(\n",
    "            Bucket=os.getenv('CLOUDFLARE_R2_BUCKET_NAME'),\n",
    "            Key=key,\n",
    "            Body=json_data,\n",
    "            ContentType='application/json'\n",
    "        )\n",
    "\n",
    "        print(f\"Successfully uploaded {key} to {os.getenv('CLOUDFLARE_R2_BUCKET_NAME')}\")\n",
    "        return True\n",
    "\n",
    "    except Exception as e:\n",
    "        print(f\"Error uploading to R2: {e}\")\n",
    "        return False\n",
    "\n",
    "# Read and upload the iShares Core S&P 500 ETF fund JSON file\n",
    "with open('ishares-core-sp-500-etf-fund.json', 'r') as f:\n",
    "    ishares_data = json.load(f)\n",
    "\n",
    "# Set the ticker for the fund\n",
    "ticker = \"VOO\"  # iShares Core S&P 500 ETF ticker\n",
    "\n",
    "# Upload the iShares data to R2\n",
    "key = f\"funds/{ticker}/latest.json\"\n",
    "upload_json_to_r2(ishares_data, key)\n",
    "# \n",
    "# ishares_data\n",
    "\n",
    "# os.getenv('CLOUDFLARE_R2_BUCKET_NAME')"
   ]
  }
 ],
 "metadata": {
  "kernelspec": {
   "display_name": ".venv",
   "language": "python",
   "name": "python3"
  },
  "language_info": {
   "codemirror_mode": {
    "name": "ipython",
    "version": 3
   },
   "file_extension": ".py",
   "mimetype": "text/x-python",
   "name": "python",
   "nbconvert_exporter": "python",
   "pygments_lexer": "ipython3",
   "version": "3.12.10"
  }
 },
 "nbformat": 4,
 "nbformat_minor": 5
}
